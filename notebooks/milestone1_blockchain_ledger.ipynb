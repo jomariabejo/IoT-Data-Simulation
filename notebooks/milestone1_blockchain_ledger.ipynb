{
 "cells": [
  {
   "cell_type": "markdown",
   "id": "8c30c8e4",
   "metadata": {},
   "source": [
    "# Week 4: Milestone 1 – Smart Tracking System Blockchain Ledger (Draft)\n",
    "\n",
    "Follow these steps to verify Python↔Ganache↔Smart Contract connection."
   ]
  },
  {
   "cell_type": "markdown",
   "id": "fc5843d7",
   "metadata": {},
   "source": [
    "1. Setup and Connection"
   ]
  },
  {
   "cell_type": "markdown",
   "id": "ad1f860f",
   "metadata": {},
   "source": [
    "1. **Open Jupyter Notebook**  \n",
    "2. **Verify Ganache** is running (Desktop App “Quickstart Ethereum” or `ganache-cli`).  \n",
    "3. **Check RPC port** (default is `7545` in Ganache Desktop).\n",
    "\n",
    "Below we’ll connect Python → Ganache → our IoTDataStorage contract."
   ]
  },
  {
   "cell_type": "code",
   "id": "fef8ead9",
   "metadata": {
    "ExecuteTime": {
     "end_time": "2025-06-10T00:49:00.192603Z",
     "start_time": "2025-06-10T00:49:00.182363Z"
    }
   },
   "source": [
    "# Cell 1: imports & connection\n",
    "from web3 import Web3\n",
    "import json, os\n",
    "\n",
    "# 1️⃣ Point to your Ganache RPC (update port if needed)\n",
    "ganache_url = \"http://127.0.0.1:7545\"\n",
    "web3 = Web3(Web3.HTTPProvider(ganache_url))\n",
    "\n",
    "# 2️⃣ Test connection\n",
    "if web3.is_connected():\n",
    "    print(\"✅ Connected to Ganache successfully!\")\n",
    "else:\n",
    "    print(\"❌ Connection failed. Ensure Ganache is running.\")"
   ],
   "outputs": [
    {
     "name": "stdout",
     "output_type": "stream",
     "text": [
      "✅ Connected to Ganache successfully!\n"
     ]
    }
   ],
   "execution_count": 2
  },
  {
   "cell_type": "markdown",
   "id": "0dc81955",
   "metadata": {},
   "source": [
    "2. Load Contract ABI and Address\n",
    "\n",
    "🔗 Now we load the **ABI** exported (in `/artifacts/IoTDataStorageABI.json`) and the **deployed address** from Remix."
   ]
  },
  {
   "cell_type": "code",
   "id": "19897053",
   "metadata": {
    "ExecuteTime": {
     "end_time": "2025-06-10T00:49:09.260235Z",
     "start_time": "2025-06-10T00:49:09.193986Z"
    }
   },
   "source": [
    "# Cell 2: load ABI + contract\n",
    "abi_path = os.path.join(\"..\", \"artifacts\", \"IoTDataStorageABI.json\")\n",
    "with open(abi_path) as f:\n",
    "    abi = json.load(f)\n",
    "\n",
    "# Replace with actual deployed address - convert to checksum format\n",
    "contract_address_raw = \"0x03c92d872555d667bdff0e54beb3557f1c4a154e\"\n",
    "contract_address = Web3.to_checksum_address(contract_address_raw)\n",
    "\n",
    "contract = web3.eth.contract(address=contract_address, abi=abi)\n",
    "\n",
    "# Use the Ganache account that has a balance\n",
    "web3.eth.default_account = web3.eth.accounts[1]\n",
    "\n",
    "print(f\"▶️ Using account {web3.eth.default_account}\")\n",
    "print(f\"✅ Loaded contract at {contract_address}\")\n",
    "\n",
    "# Optional: Test the connection\n",
    "try:\n",
    "    total_records = contract.functions.getTotalRecords().call()\n",
    "    print(f\"📊 Current total records: {total_records}\")\n",
    "    print(\"🎉 Contract connection successful!\")\n",
    "except Exception as e:\n",
    "    print(f\"❌ Error testing contract connection: {e}\")"
   ],
   "outputs": [
    {
     "name": "stdout",
     "output_type": "stream",
     "text": [
      "▶️ Using account 0x805F8eb842DcaD1Fc999eE8257Cd0C99BFC9d13d\n",
      "✅ Loaded contract at 0x03C92d872555D667bdFf0e54BEB3557f1C4a154E\n",
      "📊 Current total records: 0\n",
      "🎉 Contract connection successful!\n"
     ]
    }
   ],
   "execution_count": 3
  },
  {
   "metadata": {},
   "cell_type": "markdown",
   "source": "",
   "id": "85e710cd70806ca8"
  },
  {
   "cell_type": "markdown",
   "id": "f4ec64b4",
   "metadata": {},
   "source": [
    "3. Read-Only Call: getTotalRecords()\n",
    "\n",
    "Let’s check that our contract is responding:"
   ]
  },
  {
   "cell_type": "code",
   "id": "0bab4702",
   "metadata": {
    "ExecuteTime": {
     "end_time": "2025-06-10T00:49:18.452945Z",
     "start_time": "2025-06-10T00:49:18.429347Z"
    }
   },
   "source": [
    "# Cell 3: read-only call\n",
    "total = contract.functions.getTotalRecords().call()\n",
    "print(f\"🔢 Total stored entries on‐chain: {total}\")"
   ],
   "outputs": [
    {
     "name": "stdout",
     "output_type": "stream",
     "text": [
      "🔢 Total stored entries on‐chain: 0\n"
     ]
    }
   ],
   "execution_count": 4
  },
  {
   "cell_type": "markdown",
   "id": "66d9a11f",
   "metadata": {},
   "source": [
    "4. Write a dummy entry\n",
    "\n",
    "Store one dummy IoT record (TEST001) to prove transactions work."
   ]
  },
  {
   "cell_type": "code",
   "id": "8c33957b",
   "metadata": {
    "ExecuteTime": {
     "end_time": "2025-06-10T00:49:21.816067Z",
     "start_time": "2025-06-10T00:49:21.673451Z"
    }
   },
   "source": [
    "# Cell 4: store dummy entry\n",
    "\n",
    "# First, make sure we have a valid account\n",
    "print(\"Available accounts:\")\n",
    "for i, account in enumerate(web3.eth.accounts):\n",
    "    balance = web3.eth.get_balance(account)\n",
    "    print(f\"  [{i}] {account} - Balance: {web3.from_wei(balance, 'ether')} ETH\")\n",
    "\n",
    "# Set the account explicitly (use account[0] which is usually the deployer)\n",
    "sender_account = web3.eth.accounts[0]  # or web3.eth.accounts[1] if you prefer\n",
    "print(f\"\\n▶️ Using account: {sender_account}\")\n",
    "\n",
    "# Store dummy data\n",
    "tx = contract.functions.storeData(\n",
    "    \"TEST003\",      # dummy ID\n",
    "    \"New York\",  # Location\n",
    "    \"22.5°C\"       # Temperature\n",
    ").transact({\n",
    "    \"from\": sender_account,  # Use explicit account instead of default_account\n",
    "    \"gas\": 200_000,\n",
    "    \"gasPrice\": web3.to_wei(\"1\", \"gwei\")\n",
    "})\n",
    "\n",
    "print(f\"📝 Transaction sent: {tx.hex()}\")\n",
    "\n",
    "# Wait for transaction to be mined\n",
    "receipt = web3.eth.wait_for_transaction_receipt(tx)\n",
    "print(f\"✅ Dummy data tx mined: {receipt.transactionHash.hex()}\")\n",
    "print(f\"📊 Gas used: {receipt.gasUsed}\")\n",
    "\n",
    "# Verify the data was stored\n",
    "try:\n",
    "    total_records = contract.functions.getTotalRecords().call()\n",
    "    print(f\"🎯 Total records after storing: {total_records}\")\n",
    "    \n",
    "    if total_records > 0:\n",
    "        # Get the latest record\n",
    "        latest_record = contract.functions.getRecord(total_records - 1).call()\n",
    "        print(f\"📋 Latest record: {latest_record}\")\n",
    "except Exception as e:\n",
    "    print(f\"❌ Error reading stored data: {e}\")"
   ],
   "outputs": [
    {
     "name": "stdout",
     "output_type": "stream",
     "text": [
      "Available accounts:\n",
      "  [0] 0x23e50c0f38de3D94596cd254253401Fb32365b85 - Balance: 99.9989576768125 ETH\n",
      "  [1] 0x805F8eb842DcaD1Fc999eE8257Cd0C99BFC9d13d - Balance: 100 ETH\n",
      "  [2] 0x44B1c26097d7f471Ce0ACC5764e733dC0501523f - Balance: 100 ETH\n",
      "  [3] 0x869c81855A9AAE18C9Ba055C3712B175b0750CAB - Balance: 100 ETH\n",
      "  [4] 0xd1b2EACFc75dEbEbefA1d2F35CAe5Fe9F6A62C4B - Balance: 100 ETH\n",
      "  [5] 0x47D0B34D7DFFf27365F192FE97AbFd0edE1C30a5 - Balance: 100 ETH\n",
      "  [6] 0x5E3B9DB6E87D1f130BAFb137d375E618a1b0eE54 - Balance: 100 ETH\n",
      "  [7] 0xbD2B3b60C1B7D98FabDC1E504e2b4460A7E7756C - Balance: 100 ETH\n",
      "  [8] 0x3e19d0a1E7639e581a324f6dAE5424691333C554 - Balance: 100 ETH\n",
      "  [9] 0x7695c219fd0261b748D8524a9390515a87fb69e2 - Balance: 100 ETH\n",
      "\n",
      "▶️ Using account: 0x23e50c0f38de3D94596cd254253401Fb32365b85\n",
      "📝 Transaction sent: 30cc7e91650c71673644850d9ae86657d090a580c200fbe967e54bc466e482d6\n",
      "✅ Dummy data tx mined: 30cc7e91650c71673644850d9ae86657d090a580c200fbe967e54bc466e482d6\n",
      "📊 Gas used: 144765\n",
      "🎯 Total records after storing: 1\n",
      "📋 Latest record: [1749516561, 'TEST003', 'New York', '22.5°C']\n"
     ]
    }
   ],
   "execution_count": 5
  },
  {
   "cell_type": "markdown",
   "id": "098b1d7a",
   "metadata": {},
   "source": [
    "5. Verify it went through\n",
    "\n",
    "After mining, call again to see the updated count and fetch the index."
   ]
  },
  {
   "cell_type": "code",
   "id": "90a4d6dc",
   "metadata": {
    "ExecuteTime": {
     "end_time": "2025-06-10T00:55:08.988809Z",
     "start_time": "2025-06-10T00:55:08.934062Z"
    }
   },
   "source": [
    "# Cell 5: verify storage\n",
    "new_total = contract.functions.getTotalRecords().call()\n",
    "print(f\"🔢 New total entries: {new_total}\")\n",
    "\n",
    "first = contract.functions.getRecord(0).call()\n",
    "print(\"📦 First stored record:\", first)"
   ],
   "outputs": [
    {
     "name": "stdout",
     "output_type": "stream",
     "text": [
      "🔢 New total entries: 1\n",
      "📦 First stored record: [1749516561, 'TEST003', 'New York', '22.5°C']\n"
     ]
    }
   ],
   "execution_count": 8
  },
  {
   "metadata": {
    "ExecuteTime": {
     "end_time": "2025-06-10T00:55:19.798335Z",
     "start_time": "2025-06-10T00:55:12.725983Z"
    }
   },
   "cell_type": "code",
   "source": [
    "# Cell 6: Adding New Iot Data using our Output 1(logistics_data.json) on the Blockchain\n",
    "\n",
    "import pandas as pd\n",
    "\n",
    "df = pd.read_csv(\"../data/logistics_data.csv\")\n",
    "\n",
    "sender_account = web3.eth.accounts[0]\n",
    "print(f\"🔐 Using account: {sender_account}\")\n",
    "\n",
    "for i, row in df.iterrows():\n",
    "    try:\n",
    "        # Convert entire row to a single string\n",
    "        row_string = \"|\".join(str(row[col]) for col in df.columns)\n",
    "\n",
    "        tx = contract.functions.storeData(\n",
    "            str(row['shipment_id']),  # Key or ID\n",
    "            \"FullRow\",                # Data type or label\n",
    "            row_string                # Entire row as single string\n",
    "        ).transact({\n",
    "            \"from\": sender_account,\n",
    "            \"gas\": 300_000,\n",
    "            \"gasPrice\": web3.to_wei(\"1\", \"gwei\")\n",
    "        })\n",
    "\n",
    "        receipt = web3.eth.wait_for_transaction_receipt(tx)\n",
    "        print(f\"[{i+1}/{len(df)}] ✅ Stored full row for: {row['shipment_id']} | Tx: {tx.hex()}\")\n",
    "\n",
    "    except Exception as e:\n",
    "        print(f\"[{i+1}/{len(df)}] ❌ Error storing full row for {row['shipment_id']}: {e}\")\n"
   ],
   "id": "cfe7b76ce4cef267",
   "outputs": [
    {
     "name": "stdout",
     "output_type": "stream",
     "text": [
      "🔐 Using account: 0x23e50c0f38de3D94596cd254253401Fb32365b85\n",
      "[1/100] ✅ Stored full row for: SHIP7734 | Tx: 27dad99b1a1f9feaceb66a81f44d47b11f62423f8c5821054af2031116afec51\n",
      "[2/100] ✅ Stored full row for: SHIP4309 | Tx: f1562ae66f3ebbbc4d9258e87160b6f36d50993e05f172c441d96bc23ad343ca\n",
      "[3/100] ✅ Stored full row for: SHIP1802 | Tx: 34bbb7974ba20cecf2f6ee1723bb59cc2a25ff831f494e1853bdbac76a943577\n",
      "[4/100] ✅ Stored full row for: SHIP9967 | Tx: 31edd75d305930057c0471c0082c06bb2de1ae1c32aa1d72877e494382e5fe82\n",
      "[5/100] ✅ Stored full row for: SHIP3088 | Tx: 76e795478da2845d0ea2b89868a718a34dd8d24cf18994bce8589274cc177646\n",
      "[6/100] ✅ Stored full row for: SHIP9457 | Tx: 4ff07ac8be3215627ab7bd8290f323f312484dc1754392e5b430e903e37b9a71\n",
      "[7/100] ✅ Stored full row for: SHIP7133 | Tx: 24bea3c0ccd7c110c11c9e5fcab6c01d54ba0e2ef32a9607480feedf4ff0133b\n",
      "[8/100] ✅ Stored full row for: SHIP5276 | Tx: 1cd2bd4e9de9a004976a210843d19e6a54860fdb1be7030f2f13a22e783c4adb\n",
      "[9/100] ✅ Stored full row for: SHIP9411 | Tx: 88928f3f13952080157ed2796c7dc87c3b6743ab031bc29d1628de29b459de57\n",
      "[10/100] ✅ Stored full row for: SHIP1370 | Tx: 072a2f5b2ef10a279503a98d85eaf801eedc33a52737ed9bba6daea7449aa860\n",
      "[11/100] ✅ Stored full row for: SHIP6457 | Tx: aa974fa5eed67d1b7f3af55b40c0af2c8b1c14e2dfd9dd2e8d38ef168074c07c\n",
      "[12/100] ✅ Stored full row for: SHIP6122 | Tx: fef57fb8ba8b8e31220f61e22f14f05a9664cece9b949e2190f7a9669bc815b5\n",
      "[13/100] ✅ Stored full row for: SHIP5786 | Tx: b4bcc41e87d59b3384e2d38b24f3b1fa25d2a028087e1c83df8acb42b9bd01a9\n",
      "[14/100] ✅ Stored full row for: SHIP9978 | Tx: 038da5aa413bdfc0ef705c796d03bddb3d8af46aae0c6c2ebca132246e277f7f\n",
      "[15/100] ✅ Stored full row for: SHIP8867 | Tx: 4900c9e891e229bb60b890ac3dc3cfa0407ee2a4fd129514ce946dc7dd076b60\n",
      "[16/100] ✅ Stored full row for: SHIP6437 | Tx: 8c25e31c0876cd60a87ab09f80904db57685482f713240d5aaa9bcc12c3f2a53\n",
      "[17/100] ✅ Stored full row for: SHIP6825 | Tx: f3ee1cd7e23633483a541834b024565c60f0d8d067b986cdee97add3a473073b\n",
      "[18/100] ✅ Stored full row for: SHIP7521 | Tx: 3128a2bf97d84a1c650d03030541d7b40273bc0d1a2ffd1ddb128dfdcf7f9113\n",
      "[19/100] ✅ Stored full row for: SHIP1330 | Tx: 89cbdb8fcced5af18a41090acb577875ec56da30f804750ea4f1572689001b56\n",
      "[20/100] ✅ Stored full row for: SHIP6415 | Tx: fe38c87090d988962bad1f70024ca2a38789e2e703cc41cec0d2952999bd3a89\n",
      "[21/100] ✅ Stored full row for: SHIP1531 | Tx: de45c5ed9304f2a6d37c15c8bd38bb601acafcfc63c544ec9e474abe15982813\n",
      "[22/100] ✅ Stored full row for: SHIP6576 | Tx: 2999a627df467fe38c9bf4090d261436f3d7096f53d0d6f622e4591b57ef249e\n",
      "[23/100] ✅ Stored full row for: SHIP4476 | Tx: 6312650175c9db824c7570821f3eabd3ae02163bce0beb63173643db6a74d44f\n",
      "[24/100] ✅ Stored full row for: SHIP4459 | Tx: 276ca33fc9a6f68a799b9299df8d302872c9d8edd9d80addd511d4e8028dadde\n",
      "[25/100] ✅ Stored full row for: SHIP1706 | Tx: 908f0ff6bedaa1825ec660653db6a256741177b65cb63dcfdde189501b5157ee\n",
      "[26/100] ✅ Stored full row for: SHIP1488 | Tx: bfdb225979e9a9b8b43dcc84a6e487de954ec2f62bcf035fb9758b5465920cb3\n",
      "[27/100] ✅ Stored full row for: SHIP8004 | Tx: 2c936fb863d7fb508bc780361310c5a0b69226315f1d7e6abe7a32aa1df64026\n",
      "[28/100] ✅ Stored full row for: SHIP6180 | Tx: 64eb59e06c6d4c56ce4e32922f31375afaa5ab91c363c41e4ddf48069f27433c\n",
      "[29/100] ✅ Stored full row for: SHIP9259 | Tx: 3083de3049641a4485b3b9688ac81864a9b3dfd85126d09f4553d3fc49bc6d3a\n",
      "[30/100] ✅ Stored full row for: SHIP3272 | Tx: 6442c9d9f0205f8f0896aee64fd4f33db70d7c8b61d6f29c083f3d4e0a41bc63\n",
      "[31/100] ✅ Stored full row for: SHIP4963 | Tx: a7575a7f1d62acf71c6a94a269ba7f7fbe8ee5b20b551ce4e85ff553bbdb9204\n",
      "[32/100] ✅ Stored full row for: SHIP3424 | Tx: 91500af8f25113b97f1c7ab8291c9613d0d5cf63b9c8ce0ac4b3bd219d614949\n",
      "[33/100] ✅ Stored full row for: SHIP1493 | Tx: a76b8b2115ebff9705e3fedd67fdcbb240d847de8ca8f9ba10fec080149b58f8\n",
      "[34/100] ✅ Stored full row for: SHIP4570 | Tx: 1a575cf7f43f728eed3491996c511e257908525b3f786d8ce073eb2e4fcbcc7a\n",
      "[35/100] ✅ Stored full row for: SHIP7136 | Tx: a5937ad1e58c609b975bbed9667c88c51fd5f1f1c5f06e4ef076ee58f96bfbb6\n",
      "[36/100] ✅ Stored full row for: SHIP9760 | Tx: c5202c315afccac65e1070646f1da19a711713d4ab9e519594be4c1c69052d9b\n",
      "[37/100] ✅ Stored full row for: SHIP8409 | Tx: 9b3c210182097a6f2d080465a23652e79a24bdfab882dfd5b20f147fb931e694\n",
      "[38/100] ✅ Stored full row for: SHIP4547 | Tx: 2e216a9cd7e2c07888aec764877dacc9ff5691e80f91f6e8a5bcfe5c055a8c76\n",
      "[39/100] ✅ Stored full row for: SHIP8224 | Tx: 707e1ceb869f87ee5279eafdddc2b101a8710e1f20f861477289902fc71ceaeb\n",
      "[40/100] ✅ Stored full row for: SHIP3305 | Tx: 6050c56638d95ab74e8b487d25cd3458d671ac03a5b05f953318b77210c1cbe0\n",
      "[41/100] ✅ Stored full row for: SHIP2297 | Tx: e1a15c628d88243a7aff098d221becee0a915d0e4525cf4241152eab2d930927\n",
      "[42/100] ✅ Stored full row for: SHIP7880 | Tx: 402ff4e22a3f31a1d3a8ca68abd85ff7000dff897f7d77c1a5f8be7469165c2c\n",
      "[43/100] ✅ Stored full row for: SHIP1017 | Tx: b90e0a014cdf4e40a6230ac9e231bcd5adf8f34d5bb72fd07691a62eaba53e7f\n",
      "[44/100] ✅ Stored full row for: SHIP2502 | Tx: 5f1373e0637ba2475758b539bf947ee55e2cfa112386ff73aca98a2649836aa9\n",
      "[45/100] ✅ Stored full row for: SHIP5322 | Tx: 5b89070196f0c0523d2b95a9654531109c48d97147699bb0ff371b7fac4a30b4\n",
      "[46/100] ✅ Stored full row for: SHIP9385 | Tx: 5d19416499fc07bbc1c869afda750b713d04efc0f7128ddcab638f425860e780\n",
      "[47/100] ✅ Stored full row for: SHIP2052 | Tx: 77ef4884f3cf21165b829ce2a01b023756f89412c0257028330acb612009492c\n",
      "[48/100] ✅ Stored full row for: SHIP9699 | Tx: 3ca7d1e87476ffc278a2a6ba75b6fd68c1fe1d077b585baf5943890e4dc3a3a1\n",
      "[49/100] ✅ Stored full row for: SHIP1791 | Tx: 595c8ab66198a6dd63aafd97f90f731f37a6540e74927e538e84a764d5eb5080\n",
      "[50/100] ✅ Stored full row for: SHIP6583 | Tx: 49fd4f529b74e01377578601bdf527db516ecd49fb9a2982297d548c9ac793ba\n",
      "[51/100] ✅ Stored full row for: SHIP2679 | Tx: d1a5cd0b4d9f898ff67e681ed3a38c934d6d2df8385457b1811c91b8cd01ed6b\n",
      "[52/100] ✅ Stored full row for: SHIP2155 | Tx: e4e3c7f2a0b8af7fc5756dc0bb7acbb79049e7ade5bca15f8713dc0a3ebdd42e\n",
      "[53/100] ✅ Stored full row for: SHIP3255 | Tx: 31a41e10861fdad2ede05dcd9c0d9983f4b28d45180f221c3fbd8c1920a6da4d\n",
      "[54/100] ✅ Stored full row for: SHIP7501 | Tx: d395257b2325621569494d332577e307b6fd5c10660e1e69b5e957d35cfa68e1\n",
      "[55/100] ✅ Stored full row for: SHIP2255 | Tx: 606138273ecfc8f53236277fdd92494832378158cf666beacc4342b09b90719d\n",
      "[56/100] ✅ Stored full row for: SHIP4374 | Tx: f4bed3bd12fd1a374e577730043ed482db0195cc393a31aee8367e692b11e0a8\n",
      "[57/100] ✅ Stored full row for: SHIP1659 | Tx: 06bb93ea9f007bfe70e0de1cd11d479bd804be7eda8718b42f49967c515e4347\n",
      "[58/100] ✅ Stored full row for: SHIP4439 | Tx: b2b712813d29b8c54b4984a66104a5931f4efb414e7c1e771255653e0d997ed1\n",
      "[59/100] ✅ Stored full row for: SHIP7136 | Tx: 87060c4ecd8da393e636ae8d29f9418c34849714a1f0cf0fad6d8ba39e47e131\n",
      "[60/100] ✅ Stored full row for: SHIP6439 | Tx: 5604acc8f8ee5a66d7e1fa8652679659afba067254411f25bcba5a6a9189d24a\n",
      "[61/100] ✅ Stored full row for: SHIP8671 | Tx: 3b01d096efad7edfe7a6797f38e88dd0932599199bb299a9cd17b72ef10eb01e\n",
      "[62/100] ✅ Stored full row for: SHIP3891 | Tx: 0117788021c2c4050978e15181127a399de59785758c45c1d15d0106396cef54\n",
      "[63/100] ✅ Stored full row for: SHIP6300 | Tx: 78d3dc6d4c2fdd71b637295eec699b741d31d5ffea4655323c027724e7f42c99\n",
      "[64/100] ✅ Stored full row for: SHIP7270 | Tx: bb04ebe8651683c3857b143fa796c154d3998bb7d32acc65a98846792ae717e5\n",
      "[65/100] ✅ Stored full row for: SHIP1308 | Tx: 523318687a41a18377f58b0a4597f9c77f26c903018bd3321d0fb3339d6cf595\n",
      "[66/100] ✅ Stored full row for: SHIP2683 | Tx: 4cfd51c1b2c5cf64eb7900de32bfb0dec6d7a4d17a27911043e308e1c8a59fcd\n",
      "[67/100] ✅ Stored full row for: SHIP5276 | Tx: 0b3fa1f177a150be34efa574e0e117491b5136998746b4cc25dda6e0b663d882\n",
      "[68/100] ✅ Stored full row for: SHIP8914 | Tx: f5e88d22a932de5149aa2c4433b00f164c23e30770bdc0576bc4b679c7600e76\n",
      "[69/100] ✅ Stored full row for: SHIP6054 | Tx: fb0b342890b1117740d3ec20a4fac809b803587f6526fb18853d520d999645bf\n",
      "[70/100] ✅ Stored full row for: SHIP2979 | Tx: 3fb9bbde3e4b5276628b9507a493357d8bdc3273d941d20484a99bb84a2f8c28\n",
      "[71/100] ✅ Stored full row for: SHIP1638 | Tx: 0f4444c03777770784543c8b5052236576dc8ddf8bfc44156d5fe58b86a325b0\n",
      "[72/100] ✅ Stored full row for: SHIP5483 | Tx: e1bbbd1e9c6280a6169423b30b83416ed44d1f0e3a59c54a6fcff433470fe543\n",
      "[73/100] ✅ Stored full row for: SHIP1851 | Tx: 6d203427c8c3e7eee5926eb99175d221a1520df8dc8736bc7b5975783172d54f\n",
      "[74/100] ✅ Stored full row for: SHIP3023 | Tx: 0fe1fe373fb0df41ec166135ada5f426b006d6f4995ed5d1b0459bb3a74861bd\n",
      "[75/100] ✅ Stored full row for: SHIP4004 | Tx: 4a2afc431ba4c630af17b370e44d000b8d92833217a24208d80f6e3c6164e161\n",
      "[76/100] ✅ Stored full row for: SHIP6471 | Tx: b396be943799c4003b6a11d09198467f408302e4185cd6a6086178a861a332fd\n",
      "[77/100] ✅ Stored full row for: SHIP8873 | Tx: b21be4313565a9a1cda2c4a9e8fb81b92c7cda792e7d1ac602bac6c7527c2c0f\n",
      "[78/100] ✅ Stored full row for: SHIP9215 | Tx: 0170dc1f7084a69673d1bd4eb959dbd50382df18d6fdfae29b971f42d897f8a5\n",
      "[79/100] ✅ Stored full row for: SHIP5963 | Tx: e9aac207e3d97c2fa4a9730585a3bb974db4cc06b7099eed0b7a92f79c32707a\n",
      "[80/100] ✅ Stored full row for: SHIP4524 | Tx: ccbb12d1366e90f7381ed3d9734669b2e6742faae3f7b49542f02b10ff81113b\n",
      "[81/100] ✅ Stored full row for: SHIP6786 | Tx: f6204ceee39e79306f41acc7e67658ce4b05e303ba13fc4dd5fc5f845d1a7db1\n",
      "[82/100] ✅ Stored full row for: SHIP5418 | Tx: feb2a2176c806ab64bd4d516d34ac9add98f710df0d4747019145618a4844185\n",
      "[83/100] ✅ Stored full row for: SHIP3632 | Tx: 49255cbac2683635de8991bb55a8c8320a3e86919cea1d47517b411cbe7f8db6\n",
      "[84/100] ✅ Stored full row for: SHIP9719 | Tx: 02691c1c810071471eb6ca84289eccce2c77760d6fa5415a081426db2c123c8c\n",
      "[85/100] ✅ Stored full row for: SHIP5444 | Tx: 95db6b58f3575a46198abdf1eb15d0925274bf1f0a31813b9e14d98f2007835f\n",
      "[86/100] ✅ Stored full row for: SHIP6363 | Tx: 17f4176feb479dbbd218e429f64bb3b11997eae6018b44e90148bd3da0d4f7a2\n",
      "[87/100] ✅ Stored full row for: SHIP6187 | Tx: 7228dd7e7b7d7c58beb3e2989f395463ee919346d2f525096c56bb9e33312441\n",
      "[88/100] ✅ Stored full row for: SHIP2091 | Tx: 2f1759302ed2ea46aafb126124bc955211530e114cb73d3f758ee9c10e4e9c46\n",
      "[89/100] ✅ Stored full row for: SHIP7928 | Tx: 04be4ff15d53869121fcc1e06646dbfc6651524e51eaf299d15beeec254c5469\n",
      "[90/100] ✅ Stored full row for: SHIP5767 | Tx: c78039ae5ec3ffefffb36cf379d7b360c6583496a76adb3c4c7d477d3035590e\n",
      "[91/100] ✅ Stored full row for: SHIP1495 | Tx: 30bf9aee96fc20f1c0e78948d2e690f0bda06f286e61d144e2eb82e65e8506ed\n",
      "[92/100] ✅ Stored full row for: SHIP6622 | Tx: 43aa35b718de0a2fff9576f234c7c4784a452d5bd3f874818c9d05dc0833388f\n",
      "[93/100] ✅ Stored full row for: SHIP6244 | Tx: be0070ce2ef9b7f956f5dbe1ffbffd030e28e27355da6954b91446b3d2b0e443\n",
      "[94/100] ✅ Stored full row for: SHIP3505 | Tx: 98648b29ccc5ee7417081614356d7ba8de893389d6d9d995ced1fef2a03faf63\n",
      "[95/100] ✅ Stored full row for: SHIP1744 | Tx: 71e816962346030d01ab327a34f703ba87315b13e973bc8a4488245c345f35aa\n",
      "[96/100] ✅ Stored full row for: SHIP1263 | Tx: 14bde2e76ee7b20772a01170cd8c34f7acca3c98247aff31dc52543a37529e9c\n",
      "[97/100] ✅ Stored full row for: SHIP7264 | Tx: 5fb1c730f4212f01f3d81ab0328864d0e5531560074663b3207a97850b525d96\n",
      "[98/100] ✅ Stored full row for: SHIP5416 | Tx: 91b3ddddd4c5274e74d006039e433fd6c7d3a356fb40a351af691a104d5eedb1\n",
      "[99/100] ✅ Stored full row for: SHIP6994 | Tx: 88dbd7cab65ae453c704a972df211728c403cb8ce7acb299ea78b9430896a561\n",
      "[100/100] ✅ Stored full row for: SHIP5841 | Tx: 7f08fa7764e106117e13b501c96860c9d5b52c363ef07546bc69cc1221f34052\n"
     ]
    }
   ],
   "execution_count": 9
  },
  {
   "metadata": {
    "ExecuteTime": {
     "end_time": "2025-06-10T01:07:16.435954Z",
     "start_time": "2025-06-10T01:07:16.377843Z"
    }
   },
   "cell_type": "code",
   "source": [
    "# Read first row from CSV\n",
    "\n",
    "# For this example we use the guide from camu which is the sampler data\n",
    "first_record = contract.functions.getRecord(0).call()\n",
    "print(\"CSV First Record (concatenated):\")\n",
    "# TEST003\n",
    "# New York\n",
    "# 22.5°C\n",
    "print(f\"  Package Name: {first_record[0]}\")\n",
    "print(f\"  Location: {first_record[2]}\")\n",
    "print(f\"  Temperature: {first_record[3]}\")\n",
    "\n",
    "# In this case we use our generated logistics data\n",
    "# Fetch last record from blockchain\n",
    "last_record = contract.functions.getRecord(100).call()\n",
    "\n",
    "print(\"\\nBlockchain Last Record:\")\n",
    "print(f\"  Shipment ID: {last_record[0]}\")\n",
    "print(f\"  Data Type: {last_record[1]}\")\n",
    "print(f\"  Full Row Data: {last_record[2]}\")\n"
   ],
   "id": "6500c2f3ade3cb23",
   "outputs": [
    {
     "name": "stdout",
     "output_type": "stream",
     "text": [
      "CSV First Record (concatenated):\n",
      "  Package Name: 1749516561\n",
      "  Location: New York\n",
      "  Temperature: 22.5°C\n",
      "\n",
      "Blockchain Last Record:\n",
      "  Shipment ID: 1749516919\n",
      "  Data Type: SHIP5841\n",
      "  Full Row Data: FullRow\n"
     ]
    }
   ],
   "execution_count": 18
  },
  {
   "metadata": {},
   "cell_type": "markdown",
   "source": "# Data Retrieval and Processing",
   "id": "dba054ed0a5bbc9d"
  },
  {
   "metadata": {
    "ExecuteTime": {
     "end_time": "2025-06-10T01:05:39.852759Z",
     "start_time": "2025-06-10T01:05:39.835429Z"
    }
   },
   "cell_type": "code",
   "source": [
    "total_records = contract.functions.getTotalRecords().call()\n",
    "print(f\"Total IoT records stored: {total_records}\")"
   ],
   "id": "5b8282f547172a16",
   "outputs": [
    {
     "name": "stdout",
     "output_type": "stream",
     "text": [
      "Total IoT records stored: 101\n"
     ]
    }
   ],
   "execution_count": 16
  },
  {
   "metadata": {
    "ExecuteTime": {
     "end_time": "2025-06-10T01:20:16.927837Z",
     "start_time": "2025-06-10T01:20:15.149565Z"
    }
   },
   "cell_type": "code",
   "source": [
    "import pandas as pd\n",
    "\n",
    "\n",
    "# Retrieve all IoT records\n",
    "data = []\n",
    "for i in range(total_records):\n",
    "    record = contract.functions.getRecord(i).call()\n",
    "    data.append({\n",
    "        \"timestamp\": record[0],\n",
    "        \"device_id\": record[1],\n",
    "        \"data_type\": record[2],\n",
    "        \"data_value\": record[3]\n",
    "    })\n",
    "\n",
    "\n",
    "# Convert to a DataFrame\n",
    "df = pd.DataFrame(data)\n",
    "\n",
    "\n",
    "# Convert timestamp to readable format\n",
    "df[\"timestamp\"] = pd.to_datetime(df[\"timestamp\"], unit=\"s\")\n",
    "\n",
    "\n",
    "# Display first few records\n",
    "print(df.head())"
   ],
   "id": "21b3e29893fb393b",
   "outputs": [
    {
     "name": "stdout",
     "output_type": "stream",
     "text": [
      "            timestamp device_id data_type  \\\n",
      "0 2025-06-10 00:49:21   TEST003  New York   \n",
      "1 2025-06-10 00:55:15  SHIP7734   FullRow   \n",
      "2 2025-06-10 00:55:15  SHIP4309   FullRow   \n",
      "3 2025-06-10 00:55:15  SHIP1802   FullRow   \n",
      "4 2025-06-10 00:55:15  SHIP9967   FullRow   \n",
      "\n",
      "                                          data_value  \n",
      "0                                             22.5°C  \n",
      "1  2025-05-18 15:46:54|2025-05-18 11:46:54|2025-0...  \n",
      "2  2025-05-18 09:41:54|2025-05-18 06:41:54|2025-0...  \n",
      "3  2025-05-18 13:45:54|2025-05-18 10:45:54|2025-0...  \n",
      "4  2025-05-18 05:57:54|2025-05-18 01:57:54|2025-0...  \n"
     ]
    }
   ],
   "execution_count": 26
  },
  {
   "metadata": {
    "ExecuteTime": {
     "end_time": "2025-06-10T01:12:52.720851Z",
     "start_time": "2025-06-10T01:12:52.712692Z"
    }
   },
   "cell_type": "code",
   "source": [
    "\n",
    "import numpy as np\n",
    "\n",
    "\n",
    "# Extract numeric values from 'data_value' where applicable\n",
    "df[\"numeric_value\"] = df[\"data_value\"].str.extract(r'(\\d+\\.?\\d*)').astype(float)\n",
    "\n",
    "\n",
    "# Handle missing values (if any)\n",
    "df.fillna(0, inplace=True)\n",
    "\n",
    "\n",
    "# Display cleaned data\n",
    "print(df.head())"
   ],
   "id": "23c9e336f6853351",
   "outputs": [
    {
     "name": "stdout",
     "output_type": "stream",
     "text": [
      "            timestamp device_id data_type  \\\n",
      "0 2025-06-10 00:49:21   TEST003  New York   \n",
      "1 2025-06-10 00:55:15  SHIP7734   FullRow   \n",
      "2 2025-06-10 00:55:15  SHIP4309   FullRow   \n",
      "3 2025-06-10 00:55:15  SHIP1802   FullRow   \n",
      "4 2025-06-10 00:55:15  SHIP9967   FullRow   \n",
      "\n",
      "                                          data_value  numeric_value  \n",
      "0                                             22.5°C           22.5  \n",
      "1  2025-05-18 15:46:54|2025-05-18 11:46:54|2025-0...         2025.0  \n",
      "2  2025-05-18 09:41:54|2025-05-18 06:41:54|2025-0...         2025.0  \n",
      "3  2025-05-18 13:45:54|2025-05-18 10:45:54|2025-0...         2025.0  \n",
      "4  2025-05-18 05:57:54|2025-05-18 01:57:54|2025-0...         2025.0  \n"
     ]
    }
   ],
   "execution_count": 24
  }
 ],
 "metadata": {
  "kernelspec": {
   "display_name": "Python 3",
   "language": "python",
   "name": "python3"
  },
  "language_info": {
   "codemirror_mode": {
    "name": "ipython",
    "version": 3
   },
   "file_extension": ".py",
   "mimetype": "text/x-python",
   "name": "python",
   "nbconvert_exporter": "python",
   "pygments_lexer": "ipython3",
   "version": "3.13.1"
  }
 },
 "nbformat": 4,
 "nbformat_minor": 5
}
