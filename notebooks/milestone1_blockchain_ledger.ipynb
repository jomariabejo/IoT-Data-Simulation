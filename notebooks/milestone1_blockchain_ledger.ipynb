{
 "cells": [
  {
   "cell_type": "markdown",
   "id": "8c30c8e4",
   "metadata": {},
   "source": [
    "# Week 4: Milestone 1 – Smart Tracking System Blockchain Ledger (Draft)\n",
    "\n",
    "Follow these steps to verify Python↔Ganache↔Smart Contract connection."
   ]
  },
  {
   "cell_type": "markdown",
   "id": "fc5843d7",
   "metadata": {},
   "source": [
    "1. Setup and Connection"
   ]
  },
  {
   "cell_type": "markdown",
   "id": "ad1f860f",
   "metadata": {},
   "source": [
    "1. **Open Jupyter Notebook**  \n",
    "2. **Verify Ganache** is running (Desktop App “Quickstart Ethereum” or `ganache-cli`).  \n",
    "3. **Check RPC port** (default is `7545` in Ganache Desktop).\n",
    "\n",
    "Below we’ll connect Python → Ganache → our IoTDataStorage contract."
   ]
  },
  {
   "cell_type": "code",
   "id": "fef8ead9",
   "metadata": {
    "ExecuteTime": {
     "end_time": "2025-05-24T13:22:40.477433Z",
     "start_time": "2025-05-24T13:22:40.466796Z"
    }
   },
   "source": [
    "# Cell 1: imports & connection\n",
    "from web3 import Web3\n",
    "import json, os\n",
    "\n",
    "# 1️⃣ Point to your Ganache RPC (update port if needed)\n",
    "ganache_url = \"http://127.0.0.1:7545\"\n",
    "web3 = Web3(Web3.HTTPProvider(ganache_url))\n",
    "\n",
    "# 2️⃣ Test connection\n",
    "if web3.is_connected():\n",
    "    print(\"✅ Connected to Ganache successfully!\")\n",
    "else:\n",
    "    print(\"❌ Connection failed. Ensure Ganache is running.\")"
   ],
   "outputs": [
    {
     "name": "stdout",
     "output_type": "stream",
     "text": [
      "✅ Connected to Ganache successfully!\n"
     ]
    }
   ],
   "execution_count": 8
  },
  {
   "cell_type": "markdown",
   "id": "0dc81955",
   "metadata": {},
   "source": [
    "2. Load Contract ABI and Address\n",
    "\n",
    "🔗 Now we load the **ABI** exported (in `/artifacts/IoTDataStorageABI.json`) and the **deployed address** from Remix."
   ]
  },
  {
   "cell_type": "code",
   "id": "19897053",
   "metadata": {
    "ExecuteTime": {
     "end_time": "2025-05-24T13:22:48.816690Z",
     "start_time": "2025-05-24T13:22:48.769730Z"
    }
   },
   "source": [
    "# Cell 2: load ABI + contract\n",
    "abi_path = os.path.join(\"..\", \"artifacts\", \"IoTDataStorageABI.json\")\n",
    "with open(abi_path) as f:\n",
    "    abi = json.load(f)\n",
    "\n",
    "# Replace with actual deployed address - convert to checksum format\n",
    "contract_address_raw = \"0xb0f476563ce80ab5d55838542cd6240f662fae01\"\n",
    "contract_address = Web3.to_checksum_address(contract_address_raw)\n",
    "\n",
    "contract = web3.eth.contract(address=contract_address, abi=abi)\n",
    "\n",
    "# Use the Ganache account that has a balance\n",
    "web3.eth.default_account = web3.eth.accounts[1]\n",
    "\n",
    "print(f\"▶️ Using account {web3.eth.default_account}\")\n",
    "print(f\"✅ Loaded contract at {contract_address}\")\n",
    "\n",
    "# Optional: Test the connection\n",
    "try:\n",
    "    total_records = contract.functions.getTotalRecords().call()\n",
    "    print(f\"📊 Current total records: {total_records}\")\n",
    "    print(\"🎉 Contract connection successful!\")\n",
    "except Exception as e:\n",
    "    print(f\"❌ Error testing contract connection: {e}\")"
   ],
   "outputs": [
    {
     "name": "stdout",
     "output_type": "stream",
     "text": [
      "▶️ Using account 0x4CA114aA8b98547aa5D116b0B164740750807108\n",
      "✅ Loaded contract at 0xb0f476563CE80aB5d55838542CD6240F662faE01\n",
      "📊 Current total records: 0\n",
      "🎉 Contract connection successful!\n"
     ]
    }
   ],
   "execution_count": 10
  },
  {
   "metadata": {},
   "cell_type": "markdown",
   "source": "",
   "id": "85e710cd70806ca8"
  },
  {
   "cell_type": "markdown",
   "id": "f4ec64b4",
   "metadata": {},
   "source": [
    "3. Read-Only Call: getTotalRecords()\n",
    "\n",
    "Let’s check that our contract is responding:"
   ]
  },
  {
   "cell_type": "code",
   "id": "0bab4702",
   "metadata": {
    "ExecuteTime": {
     "end_time": "2025-05-24T13:22:56.392895Z",
     "start_time": "2025-05-24T13:22:56.363158Z"
    }
   },
   "source": [
    "# Cell 3: read-only call\n",
    "total = contract.functions.getTotalRecords().call()\n",
    "print(f\"🔢 Total stored entries on‐chain: {total}\")"
   ],
   "outputs": [
    {
     "name": "stdout",
     "output_type": "stream",
     "text": [
      "🔢 Total stored entries on‐chain: 0\n"
     ]
    }
   ],
   "execution_count": 11
  },
  {
   "cell_type": "markdown",
   "id": "66d9a11f",
   "metadata": {},
   "source": [
    "4. Write a dummy entry\n",
    "\n",
    "Store one dummy IoT record (TEST001) to prove transactions work."
   ]
  },
  {
   "cell_type": "code",
   "id": "8c33957b",
   "metadata": {
    "ExecuteTime": {
     "end_time": "2025-05-24T13:23:03.074202Z",
     "start_time": "2025-05-24T13:23:02.933178Z"
    }
   },
   "source": [
    "# Cell 4: store dummy entry\n",
    "\n",
    "# First, make sure we have a valid account\n",
    "print(\"Available accounts:\")\n",
    "for i, account in enumerate(web3.eth.accounts):\n",
    "    balance = web3.eth.get_balance(account)\n",
    "    print(f\"  [{i}] {account} - Balance: {web3.from_wei(balance, 'ether')} ETH\")\n",
    "\n",
    "# Set the account explicitly (use account[0] which is usually the deployer)\n",
    "sender_account = web3.eth.accounts[0]  # or web3.eth.accounts[1] if you prefer\n",
    "print(f\"\\n▶️ Using account: {sender_account}\")\n",
    "\n",
    "# Store dummy data\n",
    "tx = contract.functions.storeData(\n",
    "    \"TEST003\",      # dummy ID\n",
    "    \"New York\",  # data type\n",
    "    \"22.5°C\"       # data value\n",
    ").transact({\n",
    "    \"from\": sender_account,  # Use explicit account instead of default_account\n",
    "    \"gas\": 200_000,\n",
    "    \"gasPrice\": web3.to_wei(\"1\", \"gwei\")\n",
    "})\n",
    "\n",
    "print(f\"📝 Transaction sent: {tx.hex()}\")\n",
    "\n",
    "# Wait for transaction to be mined\n",
    "receipt = web3.eth.wait_for_transaction_receipt(tx)\n",
    "print(f\"✅ Dummy data tx mined: {receipt.transactionHash.hex()}\")\n",
    "print(f\"📊 Gas used: {receipt.gasUsed}\")\n",
    "\n",
    "# Verify the data was stored\n",
    "try:\n",
    "    total_records = contract.functions.getTotalRecords().call()\n",
    "    print(f\"🎯 Total records after storing: {total_records}\")\n",
    "    \n",
    "    if total_records > 0:\n",
    "        # Get the latest record\n",
    "        latest_record = contract.functions.getRecord(total_records - 1).call()\n",
    "        print(f\"📋 Latest record: {latest_record}\")\n",
    "except Exception as e:\n",
    "    print(f\"❌ Error reading stored data: {e}\")"
   ],
   "outputs": [
    {
     "name": "stdout",
     "output_type": "stream",
     "text": [
      "Available accounts:\n",
      "  [0] 0x00f73505D183C0623937a3DDbC6dCe3Bcf2aA680 - Balance: 99.9989576768125 ETH\n",
      "  [1] 0x4CA114aA8b98547aa5D116b0B164740750807108 - Balance: 100 ETH\n",
      "  [2] 0xaC44eEeCe46C51DE9636bA32a41AAdEcB9975A02 - Balance: 100 ETH\n",
      "  [3] 0x39FbE6bFE9842284C1Afb0700ABfD8c81F98d796 - Balance: 100 ETH\n",
      "  [4] 0xF15f2B571EEb8C415b1081c6AecFF4Bc343d1bD2 - Balance: 100 ETH\n",
      "  [5] 0xA215B19Ac952D504b03E8327d4a32c731146F524 - Balance: 100 ETH\n",
      "  [6] 0xbeb0b281c9D7a43e8cAc4C6168876F45Edb1ff62 - Balance: 100 ETH\n",
      "  [7] 0xca8e08802aD27E3F7fe2d71d8258f370D824FF23 - Balance: 100 ETH\n",
      "  [8] 0xC88681516a22B65d14D964e00e26f04c900416e9 - Balance: 100 ETH\n",
      "  [9] 0xc65CAa3565C3097b777345D66A1fe3CF03DB6aBc - Balance: 100 ETH\n",
      "\n",
      "▶️ Using account: 0x00f73505D183C0623937a3DDbC6dCe3Bcf2aA680\n",
      "📝 Transaction sent: bb8e5658a1784b2eb5ca797888f7d86009d6f7f02f54d3cb7c4e455c0c811212\n",
      "✅ Dummy data tx mined: bb8e5658a1784b2eb5ca797888f7d86009d6f7f02f54d3cb7c4e455c0c811212\n",
      "📊 Gas used: 144801\n",
      "🎯 Total records after storing: 1\n",
      "📋 Latest record: [1748092982, 'TEST003', 'Temperature', '22.5°C']\n"
     ]
    }
   ],
   "execution_count": 12
  },
  {
   "cell_type": "markdown",
   "id": "098b1d7a",
   "metadata": {},
   "source": [
    "5. Verify it went through\n",
    "\n",
    "After mining, call again to see the updated count and fetch the index."
   ]
  },
  {
   "cell_type": "code",
   "id": "90a4d6dc",
   "metadata": {
    "ExecuteTime": {
     "end_time": "2025-05-24T13:36:04.597911Z",
     "start_time": "2025-05-24T13:36:04.549783Z"
    }
   },
   "source": [
    "# Cell 5: verify storage\n",
    "new_total = contract.functions.getTotalRecords().call()\n",
    "print(f\"🔢 New total entries: {new_total}\")\n",
    "\n",
    "first = contract.functions.getRecord(100).call()\n",
    "print(\"📦 First stored record:\", first)"
   ],
   "outputs": [
    {
     "name": "stdout",
     "output_type": "stream",
     "text": [
      "🔢 New total entries: 101\n",
      "📦 First stored record: [1748093398, 'SHIP5841', 'FullRow', '2025-05-18 11:53:54|2025-05-18 10:53:54|2025-05-20 11:53:54|2025-05-20 12:58:54|SHIP5841|ORD364752|QC Hub|Cebu City|In Transit|3.74|58.2|False|False|Large Box|True|Heavy Traffic|5.0|True']\n"
     ]
    }
   ],
   "execution_count": 17
  },
  {
   "metadata": {
    "ExecuteTime": {
     "end_time": "2025-05-24T13:29:58.783250Z",
     "start_time": "2025-05-24T13:29:53.499646Z"
    }
   },
   "cell_type": "code",
   "source": [
    "# Cell 6: Adding New Iot Data using our Output 1(logistics_data.json) on the Blockchain\n",
    "\n",
    "import pandas as pd\n",
    "\n",
    "df = pd.read_csv(\"../data/logistics_data.csv\")\n",
    "\n",
    "sender_account = web3.eth.accounts[0]\n",
    "print(f\"🔐 Using account: {sender_account}\")\n",
    "\n",
    "for i, row in df.iterrows():\n",
    "    try:\n",
    "        # Convert entire row to a single string\n",
    "        row_string = \"|\".join(str(row[col]) for col in df.columns)\n",
    "\n",
    "        tx = contract.functions.storeData(\n",
    "            str(row['shipment_id']),  # Key or ID\n",
    "            \"FullRow\",                # Data type or label\n",
    "            row_string                # Entire row as single string\n",
    "        ).transact({\n",
    "            \"from\": sender_account,\n",
    "            \"gas\": 300_000,\n",
    "            \"gasPrice\": web3.to_wei(\"1\", \"gwei\")\n",
    "        })\n",
    "\n",
    "        receipt = web3.eth.wait_for_transaction_receipt(tx)\n",
    "        print(f\"[{i+1}/{len(df)}] ✅ Stored full row for: {row['shipment_id']} | Tx: {tx.hex()}\")\n",
    "\n",
    "    except Exception as e:\n",
    "        print(f\"[{i+1}/{len(df)}] ❌ Error storing full row for {row['shipment_id']}: {e}\")\n"
   ],
   "id": "cfe7b76ce4cef267",
   "outputs": [
    {
     "name": "stdout",
     "output_type": "stream",
     "text": [
      "🔐 Using account: 0x00f73505D183C0623937a3DDbC6dCe3Bcf2aA680\n",
      "[1/100] ✅ Stored full row for: SHIP7734 | Tx: b632774bc9ff4e50d627a935979ec907b0221f38f51ac8b8a1dc87771b668703\n",
      "[2/100] ✅ Stored full row for: SHIP4309 | Tx: 9143736205aa30d03cb3075dcd26fbee31072e948050a81bdd186b2472e52efb\n",
      "[3/100] ✅ Stored full row for: SHIP1802 | Tx: 29777255276eebea1e8c8a560ca2c1c18ba62b0b7f7a4bc76a0855284f325908\n",
      "[4/100] ✅ Stored full row for: SHIP9967 | Tx: 9d9c14035726713a6270e3825b772efade42ff4205b2b96065fa38a0dafbca5b\n",
      "[5/100] ✅ Stored full row for: SHIP3088 | Tx: 9c0e34e3f018d3d21ed340a77ee5dac3b00f2b8b77bd2c50707c28f3f6d277d3\n",
      "[6/100] ✅ Stored full row for: SHIP9457 | Tx: 389a272317afd9ec390f246e148ca9eb85abf4e5f475c8a207ec838c3c01efdc\n",
      "[7/100] ✅ Stored full row for: SHIP7133 | Tx: ca72415e1d467425bb0fb75a7dda97832a8d419815851ae325386be263548ca8\n",
      "[8/100] ✅ Stored full row for: SHIP5276 | Tx: 58a3ae77316e0247f0060d8dca566f5df2709f9a8cd1b98d15663c10d04b56e7\n",
      "[9/100] ✅ Stored full row for: SHIP9411 | Tx: 5f722f6e73bc7a0c84c6d582a031b66672885e7a5d6b44afeb1b087ee893adf8\n",
      "[10/100] ✅ Stored full row for: SHIP1370 | Tx: 491df90af77299b882d71a56a45894d130202267fcced10c75f16743057476f5\n",
      "[11/100] ✅ Stored full row for: SHIP6457 | Tx: 49177aee6cf9f8c58cd46a3903fee0852e9e802e2ddd36b4b5898ee18b43b284\n",
      "[12/100] ✅ Stored full row for: SHIP6122 | Tx: f821fbecab93b1bd606ad036f0f49d8ffbd1ce3fdf9c7079e4cde5c1a2661e55\n",
      "[13/100] ✅ Stored full row for: SHIP5786 | Tx: 921da3fa0330a430f278f41a6aba0fc9c33a64c308d13d3ea65149e5cdc6c08e\n",
      "[14/100] ✅ Stored full row for: SHIP9978 | Tx: 4536c2f4629e6c9e1ebf7e7496a3c1092e4506c4b8fbcbaeedc4468c79500dff\n",
      "[15/100] ✅ Stored full row for: SHIP8867 | Tx: 7b11cb9cae3bcd69ce9977f05666d0950829da286aceb48a449ca43e54960b1d\n",
      "[16/100] ✅ Stored full row for: SHIP6437 | Tx: d0b39541dac6c5ae6810f00913e485d8c17c7f7856e53328bf458f8e515ebe2b\n",
      "[17/100] ✅ Stored full row for: SHIP6825 | Tx: 894d246aeb2215d0c7d7546268f5a58afeff2db80b31639c9bb5b6ca2aa72931\n",
      "[18/100] ✅ Stored full row for: SHIP7521 | Tx: dfe92f21606eb565e91bd59b1e389bcdad2f4c1798e5a4c30baf4f452d8f67d3\n",
      "[19/100] ✅ Stored full row for: SHIP1330 | Tx: fe21a6b6a8a4e597e4a786c9078ab5c810ba6b8f965c4a5ecf183d409958f420\n",
      "[20/100] ✅ Stored full row for: SHIP6415 | Tx: 6d3e2a094b877e946ecec5e07a445c75efdee8ff8de13b541ac49c18c84093e2\n",
      "[21/100] ✅ Stored full row for: SHIP1531 | Tx: 302f7fbe947b0445a4733feb51ea4635980d92d81c98d6c5a8fe1ea6bb1a8d9e\n",
      "[22/100] ✅ Stored full row for: SHIP6576 | Tx: 63cddab46261f30019aef45721181afb4938c62ab482f9af1ce0453ecbf51c1c\n",
      "[23/100] ✅ Stored full row for: SHIP4476 | Tx: 38ac525c9ffe2016ef440244683c194d1230a604726b76361fbea53a31364bc1\n",
      "[24/100] ✅ Stored full row for: SHIP4459 | Tx: 51de764564a643588de1f62043c9910fa0b9f7e7e3c18330b1b173b820ed6ff2\n",
      "[25/100] ✅ Stored full row for: SHIP1706 | Tx: fe5dab8997fc3e4fd66abcde99dbc227ea55be7fb2c8337bb6353571aa2343f9\n",
      "[26/100] ✅ Stored full row for: SHIP1488 | Tx: 80e549cb936416cf8a24a1fd98f60a49ea2d3d106ca21ea6ea221d665798d92f\n",
      "[27/100] ✅ Stored full row for: SHIP8004 | Tx: 6c875ace901c893118434451e3bcb378eceb96cecad74613d97aefa5bbc215a7\n",
      "[28/100] ✅ Stored full row for: SHIP6180 | Tx: 5863c8838a136f3854b6fa3776945d99b99b35850b5f66e3765d011f953fc3f7\n",
      "[29/100] ✅ Stored full row for: SHIP9259 | Tx: fb4da6f73b8ca9b56d533d7dd85f039fe2e2b7cf0be75599e5eabbfdce8fefdc\n",
      "[30/100] ✅ Stored full row for: SHIP3272 | Tx: ef14eec892554ea7603e633ab99247652667b200bcd75e607e440cbcbb3d62f1\n",
      "[31/100] ✅ Stored full row for: SHIP4963 | Tx: c5e1ea75bbdf17d3650e75ea90736ec57125d5105581fe8e1342f82f983aae3f\n",
      "[32/100] ✅ Stored full row for: SHIP3424 | Tx: 4f1223cfcd4978d788d468ba083b5472a24f1d0947f4c647f6d5228eaf329897\n",
      "[33/100] ✅ Stored full row for: SHIP1493 | Tx: 614b07b37dd1493065291b0cbb6ee7ff3c984cc621ef03b6ed11cfe14fcec1a2\n",
      "[34/100] ✅ Stored full row for: SHIP4570 | Tx: 9ff42d80b3725926a56f4d676ec3ccf103d565188d1eda4b78785abee6ca7a43\n",
      "[35/100] ✅ Stored full row for: SHIP7136 | Tx: 66486f204a3ef081dcb0b1a0de830ad2f377b742ec2a6af4ee8d7512696ce14b\n",
      "[36/100] ✅ Stored full row for: SHIP9760 | Tx: ff7fb9fa851ee0e0b1a2efe67aad1a8160de00cbfdf50c7f06555a06e83dc205\n",
      "[37/100] ✅ Stored full row for: SHIP8409 | Tx: 56a090e9af26e2a4031956baf8a7ad29e4ede8546b39f9a33f1196fddef80da7\n",
      "[38/100] ✅ Stored full row for: SHIP4547 | Tx: f7350138946d4719a41b5930a6bd78c1bbe618da7b660407288917380020f81e\n",
      "[39/100] ✅ Stored full row for: SHIP8224 | Tx: d1409f8b10a4cc147f044ca6cabf6b710e0ecfa289791b07ef90f5571ff8286a\n",
      "[40/100] ✅ Stored full row for: SHIP3305 | Tx: d115552778482de66622efa78733a971f7468d9c9087e512e327786b274ea773\n",
      "[41/100] ✅ Stored full row for: SHIP2297 | Tx: f5855653d80f7ccc5b2e0bd0068baee9c74bed45afb746c1f859ab5ae459b267\n",
      "[42/100] ✅ Stored full row for: SHIP7880 | Tx: 1fa656ba1543519511d980c2d6e40f9579c4bed54116e289212b113292768957\n",
      "[43/100] ✅ Stored full row for: SHIP1017 | Tx: 0d95e6d82b405e3715ebccd3ec76d14e55e874d7900fa1d8a1a11717a0654d75\n",
      "[44/100] ✅ Stored full row for: SHIP2502 | Tx: 079a920da52a9bc3e21f9f1affcc903252a4b0eed2e3ab8c07ef86ef7b71b5bf\n",
      "[45/100] ✅ Stored full row for: SHIP5322 | Tx: 556c16dc92a8d98e1997c929614373c9d8c29c445e98d9c139fa480c4fd4a744\n",
      "[46/100] ✅ Stored full row for: SHIP9385 | Tx: 4f59e417ee422eb4a2d6276b8c488e79b41ded7384d1c872c7e5ddbf7d48eae3\n",
      "[47/100] ✅ Stored full row for: SHIP2052 | Tx: a70bd09786e81e1480b365e48086b553b53887097a9c29e7e4830e2622b832cd\n",
      "[48/100] ✅ Stored full row for: SHIP9699 | Tx: fb4ec536f6be06600617677a4117f6fce2672b64b3986647ef07c9f06dd1c873\n",
      "[49/100] ✅ Stored full row for: SHIP1791 | Tx: 64626dcadc20a8c9c93bdcb065137c89e487b1ff3fd5c4f7034b5e1f8164658f\n",
      "[50/100] ✅ Stored full row for: SHIP6583 | Tx: 7bc9647b08e5f4e5ac9eb175e7428da07ecfa055e1e9c67181bd1d22c45761cb\n",
      "[51/100] ✅ Stored full row for: SHIP2679 | Tx: 11119b54ff489ce465bdd6f9fda09bad4e57c06b84cabd4998a63f8f064df7f7\n",
      "[52/100] ✅ Stored full row for: SHIP2155 | Tx: 7b2edae94b7493df6a003bb5b1a4b439c00f2537b117aa231c2681966b91d69e\n",
      "[53/100] ✅ Stored full row for: SHIP3255 | Tx: 3aa574a13f0985d0ba305a28fe75baa34999c7a4529a213a4e9f37147d78fc75\n",
      "[54/100] ✅ Stored full row for: SHIP7501 | Tx: 70eb6d1c315b6b8cf295bb6a05bc431710ccc068134cc4f8e0504f743da8fee8\n",
      "[55/100] ✅ Stored full row for: SHIP2255 | Tx: c85c5baa9eccc54db12ecb2f5554003b93f0a04fe87a780fc7ddd91d8762eebb\n",
      "[56/100] ✅ Stored full row for: SHIP4374 | Tx: e3c8948cf5e5c6da9801609095b3bc076cf904e9a95f1513294d1f01dd4e4f9c\n",
      "[57/100] ✅ Stored full row for: SHIP1659 | Tx: b213b00445cce0642de1c001dd2592c4e003f7f85b319167e6dbcfe11a19ab1e\n",
      "[58/100] ✅ Stored full row for: SHIP4439 | Tx: f47eda36c216a1f9d50ec14e7786e3afb89957f03751f599bc4e0c0830d60efd\n",
      "[59/100] ✅ Stored full row for: SHIP7136 | Tx: ef76d3cb3693ae7c389d700a38032be9981bade46c3ab88ef0411ba40b921144\n",
      "[60/100] ✅ Stored full row for: SHIP6439 | Tx: bba6dc595d1de4f5c2968334dbf65429c0fc067285ba4f495ff055c2ccd6d948\n",
      "[61/100] ✅ Stored full row for: SHIP8671 | Tx: ad010af8c5e9009165e7ecc6a609deb588d9f194a137624490d33c17f5fc50c8\n",
      "[62/100] ✅ Stored full row for: SHIP3891 | Tx: 2a6ea4e615d0f1012f33c4eb5350331a026d17e850f57df8fced4429f2e4b33c\n",
      "[63/100] ✅ Stored full row for: SHIP6300 | Tx: 35abd106bc1acc01f40238e31ef3780f8ea56a0d149f4039d8f2315f6ae6cec1\n",
      "[64/100] ✅ Stored full row for: SHIP7270 | Tx: cb764f8e1ff407880669d7c0494fe471e900a63ccb6e81dccc3e6e59cc3b28d6\n",
      "[65/100] ✅ Stored full row for: SHIP1308 | Tx: 6a351626a2068c748dfb713ba51bfc882c5f277a42b019ee52001bc933f66d22\n",
      "[66/100] ✅ Stored full row for: SHIP2683 | Tx: 15faa18e215b21cc6e1eedc30f4b0a44eef219793b69d0906ea152e08a5e1430\n",
      "[67/100] ✅ Stored full row for: SHIP5276 | Tx: 8c6cc659f79f194a71ef564488c1b94af91508676338cf500bba5a593c17462a\n",
      "[68/100] ✅ Stored full row for: SHIP8914 | Tx: 5eb64abfd4d3f351d2cd59d7c775279a2d23223db46b159c9dd6b3092afbd84f\n",
      "[69/100] ✅ Stored full row for: SHIP6054 | Tx: f784db249c007569be5c0928db4dd0e7de4af13d3d38845926256cc18dcbbd2b\n",
      "[70/100] ✅ Stored full row for: SHIP2979 | Tx: c6408e95b6877e1d9cac39c5801704a481c52836af42d5570fa3813261c59895\n",
      "[71/100] ✅ Stored full row for: SHIP1638 | Tx: 3696426facabe99038152c67f9661aa30f7322751da0ea53e365a6c285e20cae\n",
      "[72/100] ✅ Stored full row for: SHIP5483 | Tx: 71e9379b0e37254c45638f14575f8a025983336c8a282e19a6bf0269dbeb8d29\n",
      "[73/100] ✅ Stored full row for: SHIP1851 | Tx: 1ee8ae394c46d37b190a8961ebdb7a0ec7854c744fc21c9bd95c813799e4f44b\n",
      "[74/100] ✅ Stored full row for: SHIP3023 | Tx: 87dcd3d34f5a072246d0b059a264beb080577308eeb5c1263ba84983a63c3344\n",
      "[75/100] ✅ Stored full row for: SHIP4004 | Tx: ce8cf7806ed1c9f352586963a26c773ebec50636427f93e74fefd02c547b682a\n",
      "[76/100] ✅ Stored full row for: SHIP6471 | Tx: af32c79e08722f9e4be954c3add8d55f8de00f36b3a00c1d58df04e3be7a1332\n",
      "[77/100] ✅ Stored full row for: SHIP8873 | Tx: 95f31a73b7e87e42079b336c5fac9c844872c116e2ae99ed7ef5b81627f246ed\n",
      "[78/100] ✅ Stored full row for: SHIP9215 | Tx: 9ebccc9d35f48671a5d7b420c87a168e74a1239f07e9c53892b403604ec4d4f5\n",
      "[79/100] ✅ Stored full row for: SHIP5963 | Tx: bbeefa31e210f2f922b215656fcfde9a63056f278fd06a8b9218880c68676282\n",
      "[80/100] ✅ Stored full row for: SHIP4524 | Tx: b5779adf5483643934a43550e652604291d3aba74335e0cfe9ac7c068f194f43\n",
      "[81/100] ✅ Stored full row for: SHIP6786 | Tx: f276f6cd83c6142504e7b46a524dc0f16a38e9b94de95a8d12f811070514a388\n",
      "[82/100] ✅ Stored full row for: SHIP5418 | Tx: d4af81b5f60f2e54df657f88720004b0e0cf4c0972627ec0c3af5357fb0954ea\n",
      "[83/100] ✅ Stored full row for: SHIP3632 | Tx: 00aa6b8dcfce145f7630b174eb96af924e6f834038e7adc7bcfbd7fdeece6626\n",
      "[84/100] ✅ Stored full row for: SHIP9719 | Tx: c79cf92282800db97f40e2527c6647bb85b037fd2652297ce54d9099a5e906fa\n",
      "[85/100] ✅ Stored full row for: SHIP5444 | Tx: ff936f4c8fe5d666b32f2fa6028919625d05bb3ce430151afce229551e1da298\n",
      "[86/100] ✅ Stored full row for: SHIP6363 | Tx: 5fcf7a6723b7c736fca373783636b3f045122340801957a148e250c468566250\n",
      "[87/100] ✅ Stored full row for: SHIP6187 | Tx: 22aa559dbe5f536511b467e78e5b9cd74aafa1e3bfe1f48d064b8cbe6c3a833c\n",
      "[88/100] ✅ Stored full row for: SHIP2091 | Tx: 82bc5d0d7585fc999a21536e91abcb61e7d6ec34635db2c58b968dde5ca8aa79\n",
      "[89/100] ✅ Stored full row for: SHIP7928 | Tx: 5be8d13f1863e10920fe5d8a5dc5d63ba8dd4e6ae1916412648e0611d9f56c03\n",
      "[90/100] ✅ Stored full row for: SHIP5767 | Tx: d9a8bc122b74b3588e713e03408a811ddb4d22fdea47d2ee59de3e81a636bced\n",
      "[91/100] ✅ Stored full row for: SHIP1495 | Tx: 5d23d32bc292c59ed6eac32546aab0d2a172c361dced28e2a249b3c0b15cfb38\n",
      "[92/100] ✅ Stored full row for: SHIP6622 | Tx: b41146cf88ff4f7c86cb5fbd144ff92c9f57ea2b16117dc2aa24c824d6427879\n",
      "[93/100] ✅ Stored full row for: SHIP6244 | Tx: 137d07b573bc64ce160790445197bbaff4f9359ae8f06c80e5955c3c89cd3e87\n",
      "[94/100] ✅ Stored full row for: SHIP3505 | Tx: 7bd0411b47a193597f01c1f5e643d682060657a4006705717f8686f9f59d03e0\n",
      "[95/100] ✅ Stored full row for: SHIP1744 | Tx: b42c9019ff1ff88d20cd512dc1fdc484d8995e5167e4955d7a87468b39bc2e57\n",
      "[96/100] ✅ Stored full row for: SHIP1263 | Tx: 04b6a25763fb023dff25f5fe5659527793f824c283978a50089505037e20cf9a\n",
      "[97/100] ✅ Stored full row for: SHIP7264 | Tx: a7e8276f5b0f858ace7bfe846f0afce534cc26310c454729ec2a50636e73effb\n",
      "[98/100] ✅ Stored full row for: SHIP5416 | Tx: a381708f69f1a053c180ab0c7b04e06b2aa4305f9b0ec856c5944247fbf20154\n",
      "[99/100] ✅ Stored full row for: SHIP6994 | Tx: 1bff048540a87bc2ae46e67cd4b923a36dbb2d95460ab781bc60e9f4e941b769\n",
      "[100/100] ✅ Stored full row for: SHIP5841 | Tx: 47ac0db609e4b3b5371fea401719c152216415e83676af45f149a0bcb15829a5\n"
     ]
    }
   ],
   "execution_count": 14
  },
  {
   "metadata": {
    "ExecuteTime": {
     "end_time": "2025-05-24T13:58:05.995930Z",
     "start_time": "2025-05-24T13:58:05.937809Z"
    }
   },
   "cell_type": "code",
   "source": [
    "# Read first row from CSV\n",
    "\n",
    "# For this example we use the guide from camu which is the sampler data\n",
    "first_record = contract.functions.getRecord(0).call()\n",
    "print(\"CSV First Record (concatenated):\")\n",
    "print(f\"  Package ID: {first_record[0]}\")\n",
    "print(f\"  Temperature: {first_record[3]}\")\n",
    "\n",
    "# In this case we use our generated logistics data\n",
    "# Fetch last record from blockchain\n",
    "last_record = contract.functions.getRecord(100).call()\n",
    "\n",
    "print(\"\\nBlockchain Last Record:\")\n",
    "print(f\"  Shipment ID: {last_record[0]}\")\n",
    "print(f\"  Data Type: {last_record[1]}\")\n",
    "print(f\"  Full Row Data: {last_record[2]}\")\n"
   ],
   "id": "6500c2f3ade3cb23",
   "outputs": [
    {
     "name": "stdout",
     "output_type": "stream",
     "text": [
      "CSV First Record (concatenated):\n",
      "  Package ID: 1748092982\n",
      "  Temperature: 22.5°C\n",
      "\n",
      "Blockchain Last Record:\n",
      "  Shipment ID: 1748093398\n",
      "  Data Type: SHIP5841\n",
      "  Full Row Data: FullRow\n"
     ]
    }
   ],
   "execution_count": 39
  }
 ],
 "metadata": {
  "kernelspec": {
   "display_name": "Python 3",
   "language": "python",
   "name": "python3"
  },
  "language_info": {
   "codemirror_mode": {
    "name": "ipython",
    "version": 3
   },
   "file_extension": ".py",
   "mimetype": "text/x-python",
   "name": "python",
   "nbconvert_exporter": "python",
   "pygments_lexer": "ipython3",
   "version": "3.13.1"
  }
 },
 "nbformat": 4,
 "nbformat_minor": 5
}
